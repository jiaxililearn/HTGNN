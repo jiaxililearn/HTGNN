{
 "cells": [
  {
   "cell_type": "code",
   "execution_count": 24,
   "metadata": {},
   "outputs": [],
   "source": [
    "import dgl\n",
    "from dgl.data.utils import load_graphs\n",
    "from tqdm import tqdm\n",
    "import torch\n",
    "import torch.nn as nn\n",
    "import torch.nn.functional as F\n",
    "import numpy as np\n",
    "\n",
    "from model.model import HTGNN, NodePredictor\n",
    "from utils.pytorchtools import EarlyStopping\n",
    "from sklearn import metrics\n",
    "\n",
    "dgl.seed(0)\n",
    "np.random.seed(0)\n",
    "torch.manual_seed(0)\n",
    "torch.cuda.manual_seed(0)\n",
    "torch.cuda.manual_seed_all(0)"
   ]
  },
  {
   "cell_type": "code",
   "execution_count": 25,
   "metadata": {},
   "outputs": [],
   "source": [
    "# device = torch.device('cuda:1')\n",
    "device = torch.device('cpu')"
   ]
  },
  {
   "cell_type": "code",
   "execution_count": 26,
   "metadata": {},
   "outputs": [],
   "source": [
    "\n",
    "train_feats, _ = load_graphs('./data/dgraph/train_feats.bin')\n",
    "valid_feats, _ = load_graphs('./data/dgraph/valid_feats.bin')\n",
    "test_feats, _ = load_graphs('./data/dgraph/test_feats.bin')\n",
    "\n",
    "train_labels = torch.load(\"./data/dgraph/train_labels.pt\")\n",
    "valid_labels = torch.load(\"./data/dgraph/valid_labels.pt\")\n",
    "test_labels = torch.load(\"./data/dgraph/test_labels.pt\")"
   ]
  },
  {
   "cell_type": "code",
   "execution_count": 27,
   "metadata": {},
   "outputs": [
    {
     "data": {
      "text/plain": [
       "(Graph(num_nodes={'A': 521, 'B': 916, 'C': 307},\n",
       "       num_edges={('A', '10_t1', 'A'): 42, ('A', '10_t1', 'B'): 46, ('A', '10_t1', 'C'): 32, ('A', '11_t1', 'A'): 10, ('A', '11_t1', 'B'): 15, ('A', '11_t1', 'C'): 9, ('A', '9_t1', 'A'): 15, ('A', '9_t1', 'B'): 58, ('A', '9_t1', 'C'): 14, ('B', '10_t1', 'A'): 64, ('B', '10_t1', 'B'): 142, ('B', '10_t1', 'C'): 78, ('B', '11_t1', 'A'): 23, ('B', '11_t1', 'B'): 72, ('B', '11_t1', 'C'): 17, ('B', '9_t1', 'A'): 89, ('B', '9_t1', 'B'): 18, ('B', '9_t1', 'C'): 26, ('C', '10_t1', 'A'): 23, ('C', '10_t1', 'B'): 25, ('C', '10_t1', 'C'): 12, ('C', '11_t1', 'A'): 1, ('C', '11_t1', 'B'): 6, ('C', '11_t1', 'C'): 6, ('C', '9_t1', 'A'): 21, ('C', '9_t1', 'B'): 11, ('C', '9_t1', 'C'): 5},\n",
       "       metagraph=[('A', 'A', '10_t1'), ('A', 'A', '11_t1'), ('A', 'A', '9_t1'), ('A', 'B', '10_t1'), ('A', 'B', '11_t1'), ('A', 'B', '9_t1'), ('A', 'C', '10_t1'), ('A', 'C', '11_t1'), ('A', 'C', '9_t1'), ('B', 'A', '10_t1'), ('B', 'A', '11_t1'), ('B', 'A', '9_t1'), ('B', 'B', '10_t1'), ('B', 'B', '11_t1'), ('B', 'B', '9_t1'), ('B', 'C', '10_t1'), ('B', 'C', '11_t1'), ('B', 'C', '9_t1'), ('C', 'A', '10_t1'), ('C', 'A', '11_t1'), ('C', 'A', '9_t1'), ('C', 'B', '10_t1'), ('C', 'B', '11_t1'), ('C', 'B', '9_t1'), ('C', 'C', '10_t1'), ('C', 'C', '11_t1'), ('C', 'C', '9_t1')]),\n",
       " Graph(num_nodes={'A': 126, 'B': 178, 'C': 78},\n",
       "       num_edges={('A', '10_t1', 'A'): 10, ('A', '10_t1', 'B'): 7, ('A', '10_t1', 'C'): 5, ('A', '11_t1', 'B'): 4, ('A', '11_t1', 'C'): 2, ('A', '9_t1', 'A'): 5, ('A', '9_t1', 'B'): 9, ('A', '9_t1', 'C'): 3, ('B', '10_t1', 'A'): 18, ('B', '10_t1', 'B'): 20, ('B', '10_t1', 'C'): 21, ('B', '11_t1', 'A'): 4, ('B', '11_t1', 'B'): 14, ('B', '11_t1', 'C'): 3, ('B', '9_t1', 'A'): 29, ('B', '9_t1', 'B'): 1, ('B', '9_t1', 'C'): 3, ('C', '10_t1', 'A'): 8, ('C', '10_t1', 'B'): 7, ('C', '10_t1', 'C'): 7, ('C', '11_t1', 'A'): 1, ('C', '11_t1', 'B'): 1, ('C', '9_t1', 'A'): 6, ('C', '9_t1', 'B'): 2, ('C', '9_t1', 'C'): 1},\n",
       "       metagraph=[('A', 'A', '10_t1'), ('A', 'A', '9_t1'), ('A', 'B', '10_t1'), ('A', 'B', '11_t1'), ('A', 'B', '9_t1'), ('A', 'C', '10_t1'), ('A', 'C', '11_t1'), ('A', 'C', '9_t1'), ('B', 'A', '10_t1'), ('B', 'A', '11_t1'), ('B', 'A', '9_t1'), ('B', 'B', '10_t1'), ('B', 'B', '11_t1'), ('B', 'B', '9_t1'), ('B', 'C', '10_t1'), ('B', 'C', '11_t1'), ('B', 'C', '9_t1'), ('C', 'A', '10_t1'), ('C', 'A', '11_t1'), ('C', 'A', '9_t1'), ('C', 'B', '10_t1'), ('C', 'B', '11_t1'), ('C', 'B', '9_t1'), ('C', 'C', '10_t1'), ('C', 'C', '9_t1')]))"
      ]
     },
     "execution_count": 27,
     "metadata": {},
     "output_type": "execute_result"
    }
   ],
   "source": [
    "train_feats[0], valid_feats[0]"
   ]
  },
  {
   "cell_type": "code",
   "execution_count": 28,
   "metadata": {},
   "outputs": [
    {
     "data": {
      "text/plain": [
       "torch.Size([521, 16])"
      ]
     },
     "execution_count": 28,
     "metadata": {},
     "output_type": "execute_result"
    }
   ],
   "source": [
    "train_feats[0].nodes['A'].data['feat'].shape"
   ]
  },
  {
   "cell_type": "code",
   "execution_count": 29,
   "metadata": {},
   "outputs": [],
   "source": [
    "# train_labels[0], valid_labels[0]"
   ]
  },
  {
   "cell_type": "code",
   "execution_count": 30,
   "metadata": {},
   "outputs": [],
   "source": [
    "time_window = 2"
   ]
  },
  {
   "cell_type": "code",
   "execution_count": 31,
   "metadata": {},
   "outputs": [],
   "source": [
    "def valid_graph_feat(g_feat, time_window):\n",
    "    all_etype_t = sorted(\n",
    "        list(set([etype.split(\"_\")[-1] for _, etype, _ in g_feat.canonical_etypes]))\n",
    "    )\n",
    "\n",
    "    if len(all_etype_t) >= time_window:\n",
    "        return True\n",
    "    else:\n",
    "        return False"
   ]
  },
  {
   "cell_type": "code",
   "execution_count": 38,
   "metadata": {},
   "outputs": [],
   "source": [
    "def write_to_file(value, fpath, name=None):\n",
    "    with open(fpath, 'a') as fout:\n",
    "        fout.write(f\"{value}\\n\")"
   ]
  },
  {
   "cell_type": "code",
   "execution_count": 33,
   "metadata": {},
   "outputs": [],
   "source": [
    "def evaluate(model, val_feats, val_labels, pred_node_type=\"ALL\"):\n",
    "    val_mae_list, val_rmse_list = [], []\n",
    "    val_auc_list, val_ap_list = [], []\n",
    "\n",
    "    model.eval()\n",
    "\n",
    "    with torch.no_grad():\n",
    "        for i, (G_feat, G_label) in enumerate(zip(val_feats, val_labels)):\n",
    "            if not valid_graph_feat(G_feat, time_window):\n",
    "                continue\n",
    "            try:\n",
    "                h = model[0](G_feat.to(device), pred_node_type)\n",
    "                f_labels = []\n",
    "                f_pred = []\n",
    "                for ntype in G_label.keys():\n",
    "                    pred = model[1](h[ntype])\n",
    "                    label = G_label[ntype].view(-1, 1)\n",
    "\n",
    "                    label_mask = (label == 0) | (label == 1)\n",
    "\n",
    "                    masked_label = label[label_mask]\n",
    "                    masked_pred = pred[label_mask]\n",
    "\n",
    "                    f_labels.append(masked_label)\n",
    "                    f_pred.append(masked_pred)\n",
    "\n",
    "                f_labels = torch.cat(f_labels)\n",
    "                f_pred = torch.cat(f_pred)\n",
    "\n",
    "                loss = F.l1_loss(f_pred, f_labels)\n",
    "                rmse = torch.sqrt(F.mse_loss(f_pred, f_labels))\n",
    "            except Exception as e:\n",
    "                print(f\"failed val index: {i}\")\n",
    "                raise Exception(e)\n",
    "\n",
    "            val_mae_list.append(loss.item())\n",
    "            val_rmse_list.append(rmse.item())\n",
    "\n",
    "            if f_labels.unique().shape[0] >= 2:\n",
    "                # AUC\n",
    "                fpr, tpr, thresholds = metrics.roc_curve(\n",
    "                    f_labels.numpy(), f_pred.numpy()\n",
    "                )\n",
    "                auc = metrics.auc(fpr, tpr)\n",
    "\n",
    "                # AP\n",
    "                precision, recall, thresholds = metrics.precision_recall_curve(\n",
    "                    f_labels.numpy(), f_pred.numpy()\n",
    "                )\n",
    "                ap = metrics.auc(recall, precision)\n",
    "\n",
    "                val_auc_list.append(auc)\n",
    "                val_ap_list.append(ap)\n",
    "\n",
    "        loss = sum(val_mae_list) / len(val_mae_list)\n",
    "        rmse = sum(val_rmse_list) / len(val_rmse_list)\n",
    "\n",
    "        auc = sum(val_auc_list) / len(val_auc_list)\n",
    "        ap = sum(val_ap_list) / len(val_ap_list)\n",
    "\n",
    "        print(f\"\\tEval MAE/RMSE: {loss} / {rmse}\")\n",
    "        print(f\"\\tEval AUC/AP: {auc} / {ap}\")\n",
    "\n",
    "    return loss, rmse, auc, ap"
   ]
  },
  {
   "cell_type": "code",
   "execution_count": null,
   "metadata": {},
   "outputs": [],
   "source": []
  },
  {
   "cell_type": "code",
   "execution_count": 34,
   "metadata": {},
   "outputs": [],
   "source": [
    "\n",
    "graph_atom = train_feats[10]\n",
    "mae_list, rmse_list = [], []\n",
    "model_out_path = 'checkpoint'\n"
   ]
  },
  {
   "cell_type": "code",
   "execution_count": 35,
   "metadata": {},
   "outputs": [],
   "source": [
    "htgnn = HTGNN(graph=graph_atom, n_inp=16, n_hid=8, n_layers=2, n_heads=1, time_window=time_window, norm=False, device=device)\n",
    "predictor = NodePredictor(n_inp=8, n_classes=1)\n",
    "model = nn.Sequential(htgnn, predictor)"
   ]
  },
  {
   "cell_type": "code",
   "execution_count": 36,
   "metadata": {},
   "outputs": [],
   "source": [
    "early_stopping = EarlyStopping(patience=10, verbose=True, path=f'{model_out_path}/checkpoint_HTGNN.pt')\n",
    "optim = torch.optim.Adam(model.parameters(), lr=5e-3, weight_decay=5e-4)\n",
    "\n",
    "train_mae_list, train_rmse_list = [], []\n",
    "idx = np.random.permutation(len(train_feats))"
   ]
  },
  {
   "cell_type": "code",
   "execution_count": null,
   "metadata": {},
   "outputs": [],
   "source": []
  },
  {
   "cell_type": "code",
   "execution_count": 39,
   "metadata": {},
   "outputs": [
    {
     "name": "stdout",
     "output_type": "stream",
     "text": [
      "============ Epoch 0 ============\n"
     ]
    },
    {
     "name": "stderr",
     "output_type": "stream",
     "text": [
      "  0%|          | 0/821 [00:01<?, ?it/s]\n"
     ]
    },
    {
     "name": "stdout",
     "output_type": "stream",
     "text": [
      "Epoch MAE/RMSE: 0.30266185104846954 / 0.3324214965105057\n",
      "\tEval MAE/RMSE: 0.1980592906475067 / 0.2372611165046692\n",
      "\tEval AUC/AP: 0.5733204134366925 / 0.02407563303866711\n",
      "Validation loss decreased (inf --> 0.198059).  Saving model ...\n",
      "============ Epoch 1 ============\n"
     ]
    },
    {
     "name": "stderr",
     "output_type": "stream",
     "text": [
      "  0%|          | 0/821 [00:01<?, ?it/s]\n"
     ]
    },
    {
     "name": "stdout",
     "output_type": "stream",
     "text": [
      "Epoch MAE/RMSE: 0.263452226916949 / 0.29489146173000336\n",
      "============ Epoch 2 ============\n"
     ]
    },
    {
     "name": "stderr",
     "output_type": "stream",
     "text": [
      "  0%|          | 0/821 [00:01<?, ?it/s]\n"
     ]
    },
    {
     "name": "stdout",
     "output_type": "stream",
     "text": [
      "Epoch MAE/RMSE: 0.2290414460003376 / 0.2632531076669693\n",
      "\tEval MAE/RMSE: 0.09635315090417862 / 0.16672970354557037\n",
      "\tEval AUC/AP: 0.6030361757105943 / 0.026009562491575662\n",
      "Validation loss decreased (0.198059 --> 0.096353).  Saving model ...\n",
      "============ Epoch 3 ============\n"
     ]
    },
    {
     "name": "stderr",
     "output_type": "stream",
     "text": [
      "  0%|          | 0/821 [00:01<?, ?it/s]\n"
     ]
    },
    {
     "name": "stdout",
     "output_type": "stream",
     "text": [
      "Epoch MAE/RMSE: 0.1996922492980957 / 0.2374409854412079\n",
      "============ Epoch 4 ============\n"
     ]
    },
    {
     "name": "stderr",
     "output_type": "stream",
     "text": [
      "  0%|          | 0/821 [00:01<?, ?it/s]\n"
     ]
    },
    {
     "name": "stdout",
     "output_type": "stream",
     "text": [
      "Epoch MAE/RMSE: 0.1749105310688416 / 0.21695010488231978\n",
      "\tEval MAE/RMSE: 0.037790823727846146 / 0.15158723294734955\n",
      "\tEval AUC/AP: 0.6941214470284238 / 0.033173376397178184\n",
      "Validation loss decreased (0.096353 --> 0.037791).  Saving model ...\n",
      "============ Epoch 5 ============\n"
     ]
    },
    {
     "name": "stderr",
     "output_type": "stream",
     "text": [
      "  0%|          | 0/821 [00:01<?, ?it/s]\n"
     ]
    },
    {
     "name": "stdout",
     "output_type": "stream",
     "text": [
      "Epoch MAE/RMSE: 0.15366981684097222 / 0.20104173570871353\n",
      "============ Epoch 6 ============\n"
     ]
    },
    {
     "name": "stderr",
     "output_type": "stream",
     "text": [
      "  0%|          | 0/821 [00:00<?, ?it/s]\n"
     ]
    },
    {
     "name": "stdout",
     "output_type": "stream",
     "text": [
      "Epoch MAE/RMSE: 0.1363360066898167 / 0.18865781743079424\n",
      "\tEval MAE/RMSE: 0.023528387770056725 / 0.1508377492427826\n",
      "\tEval AUC/AP: 0.4786821705426357 / 0.011363636363636364\n",
      "Validation loss decreased (0.037791 --> 0.023528).  Saving model ...\n",
      "============ Epoch 7 ============\n"
     ]
    },
    {
     "name": "stderr",
     "output_type": "stream",
     "text": [
      "  0%|          | 0/821 [00:00<?, ?it/s]\n"
     ]
    },
    {
     "name": "stdout",
     "output_type": "stream",
     "text": [
      "Epoch MAE/RMSE: 0.12241268737448587 / 0.17893750303321415\n",
      "============ Epoch 8 ============\n"
     ]
    },
    {
     "name": "stderr",
     "output_type": "stream",
     "text": [
      "  0%|          | 0/821 [00:00<?, ?it/s]\n"
     ]
    },
    {
     "name": "stdout",
     "output_type": "stream",
     "text": [
      "Epoch MAE/RMSE: 0.11120052821934223 / 0.17117129266262054\n",
      "\tEval MAE/RMSE: 0.022727273404598236 / 0.15075567364692688\n",
      "\tEval AUC/AP: 0.5 / 0.5113636363636364\n",
      "Validation loss decreased (0.023528 --> 0.022727).  Saving model ...\n",
      "============ Epoch 9 ============\n"
     ]
    },
    {
     "name": "stderr",
     "output_type": "stream",
     "text": [
      "  0%|          | 0/821 [00:00<?, ?it/s]\n"
     ]
    },
    {
     "name": "stdout",
     "output_type": "stream",
     "text": [
      "Epoch MAE/RMSE: 0.10202379025180232 / 0.16481698778542606\n",
      "============ Epoch 10 ============\n"
     ]
    },
    {
     "name": "stderr",
     "output_type": "stream",
     "text": [
      "  0%|          | 0/821 [00:00<?, ?it/s]\n"
     ]
    },
    {
     "name": "stdout",
     "output_type": "stream",
     "text": [
      "Epoch MAE/RMSE: 0.09437650861218572 / 0.15952173372109732\n",
      "\tEval MAE/RMSE: 0.022727273404598236 / 0.15075567364692688\n",
      "\tEval AUC/AP: 0.5 / 0.5113636363636364\n",
      "Validation loss decreased (0.022727 --> 0.022727).  Saving model ...\n",
      "============ Epoch 11 ============\n"
     ]
    },
    {
     "name": "stderr",
     "output_type": "stream",
     "text": [
      "  0%|          | 0/821 [00:01<?, ?it/s]\n"
     ]
    },
    {
     "name": "stdout",
     "output_type": "stream",
     "text": [
      "Epoch MAE/RMSE: 0.08790573184020244 / 0.15504113412820375\n",
      "============ Epoch 12 ============\n"
     ]
    },
    {
     "name": "stderr",
     "output_type": "stream",
     "text": [
      "  0%|          | 0/821 [00:00<?, ?it/s]\n"
     ]
    },
    {
     "name": "stdout",
     "output_type": "stream",
     "text": [
      "Epoch MAE/RMSE: 0.08235935174993106 / 0.15120062019143785\n",
      "\tEval MAE/RMSE: 0.022727273404598236 / 0.15075567364692688\n",
      "\tEval AUC/AP: 0.5 / 0.5113636363636364\n",
      "Validation loss decreased (0.022727 --> 0.022727).  Saving model ...\n",
      "============ Epoch 13 ============\n"
     ]
    },
    {
     "name": "stderr",
     "output_type": "stream",
     "text": [
      "  0%|          | 0/821 [00:00<?, ?it/s]\n"
     ]
    },
    {
     "name": "stdout",
     "output_type": "stream",
     "text": [
      "Epoch MAE/RMSE: 0.0775524890050292 / 0.14787217477957407\n",
      "============ Epoch 14 ============\n"
     ]
    },
    {
     "name": "stderr",
     "output_type": "stream",
     "text": [
      "  0%|          | 0/821 [00:00<?, ?it/s]\n"
     ]
    },
    {
     "name": "stdout",
     "output_type": "stream",
     "text": [
      "Epoch MAE/RMSE: 0.07334648410324007 / 0.14495978504419327\n",
      "\tEval MAE/RMSE: 0.022727273404598236 / 0.15075567364692688\n",
      "\tEval AUC/AP: 0.5 / 0.5113636363636364\n",
      "Validation loss decreased (0.022727 --> 0.022727).  Saving model ...\n",
      "============ Epoch 15 ============\n"
     ]
    },
    {
     "name": "stderr",
     "output_type": "stream",
     "text": [
      "  0%|          | 0/821 [00:00<?, ?it/s]\n"
     ]
    },
    {
     "name": "stdout",
     "output_type": "stream",
     "text": [
      "Epoch MAE/RMSE: 0.06963530330754378 / 0.14239002939532786\n",
      "============ Epoch 16 ============\n"
     ]
    },
    {
     "name": "stderr",
     "output_type": "stream",
     "text": [
      "  0%|          | 0/821 [00:00<?, ?it/s]\n"
     ]
    },
    {
     "name": "stdout",
     "output_type": "stream",
     "text": [
      "Epoch MAE/RMSE: 0.06633647593359153 / 0.14010580215189192\n",
      "\tEval MAE/RMSE: 0.022727273404598236 / 0.15075567364692688\n",
      "\tEval AUC/AP: 0.5 / 0.5113636363636364\n",
      "Validation loss decreased (0.022727 --> 0.022727).  Saving model ...\n",
      "============ Epoch 17 ============\n"
     ]
    },
    {
     "name": "stderr",
     "output_type": "stream",
     "text": [
      "  0%|          | 0/821 [00:01<?, ?it/s]\n"
     ]
    },
    {
     "name": "stdout",
     "output_type": "stream",
     "text": [
      "Epoch MAE/RMSE: 0.06338489354637108 / 0.13806201988144925\n",
      "============ Epoch 18 ============\n"
     ]
    },
    {
     "name": "stderr",
     "output_type": "stream",
     "text": [
      "  0%|          | 0/821 [00:01<?, ?it/s]\n"
     ]
    },
    {
     "name": "stdout",
     "output_type": "stream",
     "text": [
      "Epoch MAE/RMSE: 0.060728469397872686 / 0.13622261583805084\n",
      "\tEval MAE/RMSE: 0.022727273404598236 / 0.15075567364692688\n",
      "\tEval AUC/AP: 0.5 / 0.5113636363636364\n",
      "Validation loss decreased (0.022727 --> 0.022727).  Saving model ...\n",
      "============ Epoch 19 ============\n"
     ]
    },
    {
     "name": "stderr",
     "output_type": "stream",
     "text": [
      "  0%|          | 0/821 [00:01<?, ?it/s]\n"
     ]
    },
    {
     "name": "stdout",
     "output_type": "stream",
     "text": [
      "Epoch MAE/RMSE: 0.05832503802542176 / 0.13455839313211895\n",
      "============ Epoch 20 ============\n"
     ]
    },
    {
     "name": "stderr",
     "output_type": "stream",
     "text": [
      "  0%|          | 0/821 [00:00<?, ?it/s]\n"
     ]
    },
    {
     "name": "stdout",
     "output_type": "stream",
     "text": [
      "Epoch MAE/RMSE: 0.05614010041410273 / 0.13304546339945358\n",
      "\tEval MAE/RMSE: 0.022727273404598236 / 0.15075567364692688\n",
      "\tEval AUC/AP: 0.5 / 0.5113636363636364\n",
      "Validation loss decreased (0.022727 --> 0.022727).  Saving model ...\n",
      "============ Epoch 21 ============\n"
     ]
    },
    {
     "name": "stderr",
     "output_type": "stream",
     "text": [
      "  0%|          | 0/821 [00:00<?, ?it/s]\n"
     ]
    },
    {
     "name": "stdout",
     "output_type": "stream",
     "text": [
      "Epoch MAE/RMSE: 0.054145157377681004 / 0.13166409277397653\n",
      "============ Epoch 22 ============\n"
     ]
    },
    {
     "name": "stderr",
     "output_type": "stream",
     "text": [
      "  0%|          | 0/821 [00:01<?, ?it/s]\n"
     ]
    },
    {
     "ename": "KeyboardInterrupt",
     "evalue": "",
     "output_type": "error",
     "traceback": [
      "\u001b[0;31m---------------------------------------------------------------------------\u001b[0m",
      "\u001b[0;31mKeyboardInterrupt\u001b[0m                         Traceback (most recent call last)",
      "\u001b[0;32m<ipython-input-39-16621fa7b6bd>\u001b[0m in \u001b[0;36m<module>\u001b[0;34m\u001b[0m\n\u001b[1;32m     38\u001b[0m         \u001b[0mtrain_rmse_list\u001b[0m\u001b[0;34m.\u001b[0m\u001b[0mappend\u001b[0m\u001b[0;34m(\u001b[0m\u001b[0mrmse\u001b[0m\u001b[0;34m.\u001b[0m\u001b[0mitem\u001b[0m\u001b[0;34m(\u001b[0m\u001b[0;34m)\u001b[0m\u001b[0;34m)\u001b[0m\u001b[0;34m\u001b[0m\u001b[0;34m\u001b[0m\u001b[0m\n\u001b[1;32m     39\u001b[0m         \u001b[0moptim\u001b[0m\u001b[0;34m.\u001b[0m\u001b[0mzero_grad\u001b[0m\u001b[0;34m(\u001b[0m\u001b[0;34m)\u001b[0m\u001b[0;34m\u001b[0m\u001b[0;34m\u001b[0m\u001b[0m\n\u001b[0;32m---> 40\u001b[0;31m         \u001b[0mloss\u001b[0m\u001b[0;34m.\u001b[0m\u001b[0mbackward\u001b[0m\u001b[0;34m(\u001b[0m\u001b[0;34m)\u001b[0m\u001b[0;34m\u001b[0m\u001b[0;34m\u001b[0m\u001b[0m\n\u001b[0m\u001b[1;32m     41\u001b[0m         \u001b[0moptim\u001b[0m\u001b[0;34m.\u001b[0m\u001b[0mstep\u001b[0m\u001b[0;34m(\u001b[0m\u001b[0;34m)\u001b[0m\u001b[0;34m\u001b[0m\u001b[0;34m\u001b[0m\u001b[0m\n\u001b[1;32m     42\u001b[0m         \u001b[0;32mbreak\u001b[0m\u001b[0;34m\u001b[0m\u001b[0;34m\u001b[0m\u001b[0m\n",
      "\u001b[0;32m~/anaconda3/envs/pytorch/lib/python3.7/site-packages/torch/_tensor.py\u001b[0m in \u001b[0;36mbackward\u001b[0;34m(self, gradient, retain_graph, create_graph, inputs)\u001b[0m\n\u001b[1;32m    361\u001b[0m                 \u001b[0mcreate_graph\u001b[0m\u001b[0;34m=\u001b[0m\u001b[0mcreate_graph\u001b[0m\u001b[0;34m,\u001b[0m\u001b[0;34m\u001b[0m\u001b[0;34m\u001b[0m\u001b[0m\n\u001b[1;32m    362\u001b[0m                 inputs=inputs)\n\u001b[0;32m--> 363\u001b[0;31m         \u001b[0mtorch\u001b[0m\u001b[0;34m.\u001b[0m\u001b[0mautograd\u001b[0m\u001b[0;34m.\u001b[0m\u001b[0mbackward\u001b[0m\u001b[0;34m(\u001b[0m\u001b[0mself\u001b[0m\u001b[0;34m,\u001b[0m \u001b[0mgradient\u001b[0m\u001b[0;34m,\u001b[0m \u001b[0mretain_graph\u001b[0m\u001b[0;34m,\u001b[0m \u001b[0mcreate_graph\u001b[0m\u001b[0;34m,\u001b[0m \u001b[0minputs\u001b[0m\u001b[0;34m=\u001b[0m\u001b[0minputs\u001b[0m\u001b[0;34m)\u001b[0m\u001b[0;34m\u001b[0m\u001b[0;34m\u001b[0m\u001b[0m\n\u001b[0m\u001b[1;32m    364\u001b[0m \u001b[0;34m\u001b[0m\u001b[0m\n\u001b[1;32m    365\u001b[0m     \u001b[0;32mdef\u001b[0m \u001b[0mregister_hook\u001b[0m\u001b[0;34m(\u001b[0m\u001b[0mself\u001b[0m\u001b[0;34m,\u001b[0m \u001b[0mhook\u001b[0m\u001b[0;34m)\u001b[0m\u001b[0;34m:\u001b[0m\u001b[0;34m\u001b[0m\u001b[0;34m\u001b[0m\u001b[0m\n",
      "\u001b[0;32m~/anaconda3/envs/pytorch/lib/python3.7/site-packages/torch/autograd/__init__.py\u001b[0m in \u001b[0;36mbackward\u001b[0;34m(tensors, grad_tensors, retain_graph, create_graph, grad_variables, inputs)\u001b[0m\n\u001b[1;32m    173\u001b[0m     Variable._execution_engine.run_backward(  # Calls into the C++ engine to run the backward pass\n\u001b[1;32m    174\u001b[0m         \u001b[0mtensors\u001b[0m\u001b[0;34m,\u001b[0m \u001b[0mgrad_tensors_\u001b[0m\u001b[0;34m,\u001b[0m \u001b[0mretain_graph\u001b[0m\u001b[0;34m,\u001b[0m \u001b[0mcreate_graph\u001b[0m\u001b[0;34m,\u001b[0m \u001b[0minputs\u001b[0m\u001b[0;34m,\u001b[0m\u001b[0;34m\u001b[0m\u001b[0;34m\u001b[0m\u001b[0m\n\u001b[0;32m--> 175\u001b[0;31m         allow_unreachable=True, accumulate_grad=True)  # Calls into the C++ engine to run the backward pass\n\u001b[0m\u001b[1;32m    176\u001b[0m \u001b[0;34m\u001b[0m\u001b[0m\n\u001b[1;32m    177\u001b[0m def grad(\n",
      "\u001b[0;32m~/anaconda3/envs/pytorch/lib/python3.7/site-packages/torch/autograd/function.py\u001b[0m in \u001b[0;36mapply\u001b[0;34m(self, *args)\u001b[0m\n\u001b[1;32m    251\u001b[0m                                \"of them.\")\n\u001b[1;32m    252\u001b[0m         \u001b[0muser_fn\u001b[0m \u001b[0;34m=\u001b[0m \u001b[0mvjp_fn\u001b[0m \u001b[0;32mif\u001b[0m \u001b[0mvjp_fn\u001b[0m \u001b[0;32mis\u001b[0m \u001b[0;32mnot\u001b[0m \u001b[0mFunction\u001b[0m\u001b[0;34m.\u001b[0m\u001b[0mvjp\u001b[0m \u001b[0;32melse\u001b[0m \u001b[0mbackward_fn\u001b[0m\u001b[0;34m\u001b[0m\u001b[0;34m\u001b[0m\u001b[0m\n\u001b[0;32m--> 253\u001b[0;31m         \u001b[0;32mreturn\u001b[0m \u001b[0muser_fn\u001b[0m\u001b[0;34m(\u001b[0m\u001b[0mself\u001b[0m\u001b[0;34m,\u001b[0m \u001b[0;34m*\u001b[0m\u001b[0margs\u001b[0m\u001b[0;34m)\u001b[0m\u001b[0;34m\u001b[0m\u001b[0;34m\u001b[0m\u001b[0m\n\u001b[0m\u001b[1;32m    254\u001b[0m \u001b[0;34m\u001b[0m\u001b[0m\n\u001b[1;32m    255\u001b[0m     \u001b[0;32mdef\u001b[0m \u001b[0mapply_jvp\u001b[0m\u001b[0;34m(\u001b[0m\u001b[0mself\u001b[0m\u001b[0;34m,\u001b[0m \u001b[0;34m*\u001b[0m\u001b[0margs\u001b[0m\u001b[0;34m)\u001b[0m\u001b[0;34m:\u001b[0m\u001b[0;34m\u001b[0m\u001b[0;34m\u001b[0m\u001b[0m\n",
      "\u001b[0;32m~/anaconda3/envs/pytorch/lib/python3.7/site-packages/dgl/backend/pytorch/sparse.py\u001b[0m in \u001b[0;36mbackward\u001b[0;34m(ctx, dZ)\u001b[0m\n\u001b[1;32m    485\u001b[0m                 \u001b[0m_gidx\u001b[0m \u001b[0;34m=\u001b[0m \u001b[0mgidx\u001b[0m \u001b[0;32mif\u001b[0m \u001b[0mrhs_target\u001b[0m \u001b[0;34m==\u001b[0m \u001b[0;34m\"v\"\u001b[0m \u001b[0;32melse\u001b[0m \u001b[0mgidx\u001b[0m\u001b[0;34m.\u001b[0m\u001b[0mreverse\u001b[0m\u001b[0;34m(\u001b[0m\u001b[0;34m)\u001b[0m\u001b[0;34m\u001b[0m\u001b[0;34m\u001b[0m\u001b[0m\n\u001b[1;32m    486\u001b[0m                 \u001b[0;32mif\u001b[0m \u001b[0mop\u001b[0m \u001b[0;32min\u001b[0m \u001b[0;34m[\u001b[0m\u001b[0;34m\"add\"\u001b[0m\u001b[0;34m,\u001b[0m \u001b[0;34m\"copy_rhs\"\u001b[0m\u001b[0;34m]\u001b[0m\u001b[0;34m:\u001b[0m\u001b[0;34m\u001b[0m\u001b[0;34m\u001b[0m\u001b[0m\n\u001b[0;32m--> 487\u001b[0;31m                     \u001b[0mdY\u001b[0m \u001b[0;34m=\u001b[0m \u001b[0mgspmm\u001b[0m\u001b[0;34m(\u001b[0m\u001b[0m_gidx\u001b[0m\u001b[0;34m,\u001b[0m \u001b[0;34m\"copy_rhs\"\u001b[0m\u001b[0;34m,\u001b[0m \u001b[0;34m\"sum\"\u001b[0m\u001b[0;34m,\u001b[0m \u001b[0;32mNone\u001b[0m\u001b[0;34m,\u001b[0m \u001b[0mdZ\u001b[0m\u001b[0;34m)\u001b[0m\u001b[0;34m\u001b[0m\u001b[0;34m\u001b[0m\u001b[0m\n\u001b[0m\u001b[1;32m    488\u001b[0m                 \u001b[0;32melse\u001b[0m\u001b[0;34m:\u001b[0m  \u001b[0;31m# mul, dot\u001b[0m\u001b[0;34m\u001b[0m\u001b[0;34m\u001b[0m\u001b[0m\n\u001b[1;32m    489\u001b[0m                     \u001b[0;32mif\u001b[0m \u001b[0mlhs_target\u001b[0m \u001b[0;34m==\u001b[0m \u001b[0mrhs_target\u001b[0m\u001b[0;34m:\u001b[0m\u001b[0;34m\u001b[0m\u001b[0;34m\u001b[0m\u001b[0m\n",
      "\u001b[0;32m~/anaconda3/envs/pytorch/lib/python3.7/site-packages/dgl/backend/pytorch/sparse.py\u001b[0m in \u001b[0;36mgspmm\u001b[0;34m(gidx, op, reduce_op, lhs_data, rhs_data)\u001b[0m\n\u001b[1;32m   1030\u001b[0m     \u001b[0margs\u001b[0m \u001b[0;34m=\u001b[0m \u001b[0m_cast_if_autocast_enabled\u001b[0m\u001b[0;34m(\u001b[0m\u001b[0mgidx\u001b[0m\u001b[0;34m,\u001b[0m \u001b[0mop\u001b[0m\u001b[0;34m,\u001b[0m \u001b[0mreduce_op\u001b[0m\u001b[0;34m,\u001b[0m \u001b[0mlhs_data\u001b[0m\u001b[0;34m,\u001b[0m \u001b[0mrhs_data\u001b[0m\u001b[0;34m)\u001b[0m\u001b[0;34m\u001b[0m\u001b[0;34m\u001b[0m\u001b[0m\n\u001b[1;32m   1031\u001b[0m     \u001b[0;32mwith\u001b[0m \u001b[0m_disable_autocast_if_enabled\u001b[0m\u001b[0;34m(\u001b[0m\u001b[0;34m)\u001b[0m\u001b[0;34m:\u001b[0m\u001b[0;34m\u001b[0m\u001b[0;34m\u001b[0m\u001b[0m\n\u001b[0;32m-> 1032\u001b[0;31m         \u001b[0;32mreturn\u001b[0m \u001b[0mGSpMM\u001b[0m\u001b[0;34m.\u001b[0m\u001b[0mapply\u001b[0m\u001b[0;34m(\u001b[0m\u001b[0;34m*\u001b[0m\u001b[0margs\u001b[0m\u001b[0;34m)\u001b[0m\u001b[0;34m\u001b[0m\u001b[0;34m\u001b[0m\u001b[0m\n\u001b[0m\u001b[1;32m   1033\u001b[0m \u001b[0;34m\u001b[0m\u001b[0m\n\u001b[1;32m   1034\u001b[0m \u001b[0;34m\u001b[0m\u001b[0m\n",
      "\u001b[0;32m~/anaconda3/envs/pytorch/lib/python3.7/site-packages/dgl/backend/pytorch/sparse.py\u001b[0m in \u001b[0;36mforward\u001b[0;34m(ctx, gidx, op, reduce_op, X, Y)\u001b[0m\n\u001b[1;32m    163\u001b[0m     \u001b[0;34m@\u001b[0m\u001b[0mstaticmethod\u001b[0m\u001b[0;34m\u001b[0m\u001b[0;34m\u001b[0m\u001b[0m\n\u001b[1;32m    164\u001b[0m     \u001b[0;32mdef\u001b[0m \u001b[0mforward\u001b[0m\u001b[0;34m(\u001b[0m\u001b[0mctx\u001b[0m\u001b[0;34m,\u001b[0m \u001b[0mgidx\u001b[0m\u001b[0;34m,\u001b[0m \u001b[0mop\u001b[0m\u001b[0;34m,\u001b[0m \u001b[0mreduce_op\u001b[0m\u001b[0;34m,\u001b[0m \u001b[0mX\u001b[0m\u001b[0;34m,\u001b[0m \u001b[0mY\u001b[0m\u001b[0;34m)\u001b[0m\u001b[0;34m:\u001b[0m\u001b[0;34m\u001b[0m\u001b[0;34m\u001b[0m\u001b[0m\n\u001b[0;32m--> 165\u001b[0;31m         \u001b[0mout\u001b[0m\u001b[0;34m,\u001b[0m \u001b[0;34m(\u001b[0m\u001b[0margX\u001b[0m\u001b[0;34m,\u001b[0m \u001b[0margY\u001b[0m\u001b[0;34m)\u001b[0m \u001b[0;34m=\u001b[0m \u001b[0m_gspmm\u001b[0m\u001b[0;34m(\u001b[0m\u001b[0mgidx\u001b[0m\u001b[0;34m,\u001b[0m \u001b[0mop\u001b[0m\u001b[0;34m,\u001b[0m \u001b[0mreduce_op\u001b[0m\u001b[0;34m,\u001b[0m \u001b[0mX\u001b[0m\u001b[0;34m,\u001b[0m \u001b[0mY\u001b[0m\u001b[0;34m)\u001b[0m\u001b[0;34m\u001b[0m\u001b[0;34m\u001b[0m\u001b[0m\n\u001b[0m\u001b[1;32m    166\u001b[0m         \u001b[0mreduce_last\u001b[0m \u001b[0;34m=\u001b[0m \u001b[0m_need_reduce_last_dim\u001b[0m\u001b[0;34m(\u001b[0m\u001b[0mX\u001b[0m\u001b[0;34m,\u001b[0m \u001b[0mY\u001b[0m\u001b[0;34m)\u001b[0m\u001b[0;34m\u001b[0m\u001b[0;34m\u001b[0m\u001b[0m\n\u001b[1;32m    167\u001b[0m         \u001b[0mX_shape\u001b[0m \u001b[0;34m=\u001b[0m \u001b[0mX\u001b[0m\u001b[0;34m.\u001b[0m\u001b[0mshape\u001b[0m \u001b[0;32mif\u001b[0m \u001b[0mX\u001b[0m \u001b[0;32mis\u001b[0m \u001b[0;32mnot\u001b[0m \u001b[0;32mNone\u001b[0m \u001b[0;32melse\u001b[0m \u001b[0;32mNone\u001b[0m\u001b[0;34m\u001b[0m\u001b[0;34m\u001b[0m\u001b[0m\n",
      "\u001b[0;32m~/anaconda3/envs/pytorch/lib/python3.7/site-packages/dgl/_sparse_ops.py\u001b[0m in \u001b[0;36m_gspmm\u001b[0;34m(gidx, op, reduce_op, u, e)\u001b[0m\n\u001b[1;32m    245\u001b[0m             \u001b[0mto_dgl_nd_for_write\u001b[0m\u001b[0;34m(\u001b[0m\u001b[0mv\u001b[0m\u001b[0;34m)\u001b[0m\u001b[0;34m,\u001b[0m\u001b[0;34m\u001b[0m\u001b[0;34m\u001b[0m\u001b[0m\n\u001b[1;32m    246\u001b[0m             \u001b[0marg_u_nd\u001b[0m\u001b[0;34m,\u001b[0m\u001b[0;34m\u001b[0m\u001b[0;34m\u001b[0m\u001b[0m\n\u001b[0;32m--> 247\u001b[0;31m             \u001b[0marg_e_nd\u001b[0m\u001b[0;34m,\u001b[0m\u001b[0;34m\u001b[0m\u001b[0;34m\u001b[0m\u001b[0m\n\u001b[0m\u001b[1;32m    248\u001b[0m         )\n\u001b[1;32m    249\u001b[0m     \u001b[0;31m# NOTE(zihao): actually we can avoid the following step, because arg_*_nd\u001b[0m\u001b[0;34m\u001b[0m\u001b[0;34m\u001b[0m\u001b[0;34m\u001b[0m\u001b[0m\n",
      "\u001b[0;31mKeyboardInterrupt\u001b[0m: "
     ]
    }
   ],
   "source": [
    "pred_node_type = \"ALL\"\n",
    "\n",
    "for epoch in range(200):\n",
    "    model.train()\n",
    "\n",
    "    print(f\"============ Epoch {epoch} ============\")\n",
    "    for i in tqdm(idx):\n",
    "        G_feat = train_feats[i]\n",
    "        G_label = train_labels[i]\n",
    "\n",
    "        # check if graph contains more than 2 windows\n",
    "        if not valid_graph_feat(G_feat, time_window):\n",
    "            continue\n",
    "\n",
    "        h = model[0](G_feat, pred_node_type)\n",
    "\n",
    "        f_labels = []\n",
    "        f_pred = []\n",
    "        for ntype in G_label.keys():\n",
    "            pred = model[1](h[ntype])\n",
    "            label = G_label[ntype].view(-1, 1)\n",
    "\n",
    "            label_mask = (label == 0) | (label == 1)\n",
    "\n",
    "            masked_label = label[label_mask]\n",
    "            masked_pred = pred[label_mask]\n",
    "\n",
    "            f_labels.append(masked_label)\n",
    "            f_pred.append(masked_pred)\n",
    "\n",
    "        f_labels = torch.cat(f_labels)\n",
    "        f_pred = torch.cat(f_pred)\n",
    "\n",
    "        loss = F.l1_loss(f_pred, f_labels)\n",
    "        rmse = torch.sqrt(F.mse_loss(f_pred, f_labels))\n",
    "\n",
    "        train_mae_list.append(loss.item())\n",
    "        train_rmse_list.append(rmse.item())\n",
    "        optim.zero_grad()\n",
    "        loss.backward()\n",
    "        optim.step()\n",
    "\n",
    "    epoch_mae = sum(train_mae_list) / len(train_mae_list)\n",
    "    epoch_rmse = sum(train_rmse_list) / len(train_rmse_list)\n",
    "    print(f\"Epoch MAE/RMSE: {epoch_mae} / {epoch_rmse}\")\n",
    "\n",
    "    write_to_file(epoch_mae, \"./results/dgraph/train_mae.txt\")\n",
    "    write_to_file(epoch_rmse, \"./results/dgraph/train_rmse.txt\")\n",
    "\n",
    "    if epoch % 2 == 0:\n",
    "        loss, rmse, auc, ap = evaluate(model, valid_feats, valid_labels)\n",
    "        write_to_file(loss, \"./results/dgraph/eval_mae.txt\")\n",
    "        write_to_file(rmse, \"./results/dgraph/eval_rmse.txt\")\n",
    "        write_to_file(auc, \"./results/dgraph/eval_auc.txt\")\n",
    "        write_to_file(ap, \"./results/dgraph/eval_ap.txt\")\n",
    "        early_stopping(loss, model)"
   ]
  },
  {
   "cell_type": "code",
   "execution_count": null,
   "metadata": {},
   "outputs": [],
   "source": []
  }
 ],
 "metadata": {
  "kernelspec": {
   "display_name": "pytorch",
   "language": "python",
   "name": "python3"
  },
  "language_info": {
   "codemirror_mode": {
    "name": "ipython",
    "version": 3
   },
   "file_extension": ".py",
   "mimetype": "text/x-python",
   "name": "python",
   "nbconvert_exporter": "python",
   "pygments_lexer": "ipython3",
   "version": "3.7.10"
  },
  "orig_nbformat": 4
 },
 "nbformat": 4,
 "nbformat_minor": 2
}
