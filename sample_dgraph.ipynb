{
 "cells": [
  {
   "cell_type": "code",
   "execution_count": 1,
   "metadata": {},
   "outputs": [],
   "source": [
    "import dgl\n",
    "from dgl.data.utils import load_graphs\n",
    "from tqdm import tqdm\n",
    "import torch\n",
    "import torch.nn as nn\n",
    "import torch.nn.functional as F\n",
    "import numpy as np\n",
    "\n",
    "from model.model import HTGNN, NodePredictor\n",
    "from utils.pytorchtools import EarlyStopping\n",
    "from sklearn import metrics\n",
    "\n",
    "dgl.seed(0)\n",
    "np.random.seed(0)\n",
    "torch.manual_seed(0)\n",
    "torch.cuda.manual_seed(0)\n",
    "torch.cuda.manual_seed_all(0)"
   ]
  },
  {
   "cell_type": "code",
   "execution_count": 2,
   "metadata": {},
   "outputs": [],
   "source": [
    "# device = torch.device('cuda:1')\n",
    "device = torch.device('cpu')"
   ]
  },
  {
   "cell_type": "code",
   "execution_count": 3,
   "metadata": {},
   "outputs": [],
   "source": [
    "\n",
    "train_feats, _ = load_graphs('./data/dgraph/train_feats.bin')\n",
    "valid_feats, _ = load_graphs('./data/dgraph/valid_feats.bin')\n",
    "test_feats, _ = load_graphs('./data/dgraph/test_feats.bin')\n",
    "\n",
    "train_labels = torch.load(\"./data/dgraph/train_labels.pt\")\n",
    "valid_labels = torch.load(\"./data/dgraph/valid_labels.pt\")\n",
    "test_labels = torch.load(\"./data/dgraph/test_labels.pt\")"
   ]
  },
  {
   "cell_type": "code",
   "execution_count": 4,
   "metadata": {},
   "outputs": [
    {
     "data": {
      "text/plain": [
       "(Graph(num_nodes={'A': 521, 'B': 916, 'C': 307},\n",
       "       num_edges={('A', '10_t1', 'A'): 42, ('A', '10_t1', 'B'): 46, ('A', '10_t1', 'C'): 32, ('A', '11_t1', 'A'): 10, ('A', '11_t1', 'B'): 15, ('A', '11_t1', 'C'): 9, ('A', '9_t1', 'A'): 15, ('A', '9_t1', 'B'): 58, ('A', '9_t1', 'C'): 14, ('B', '10_t1', 'A'): 64, ('B', '10_t1', 'B'): 142, ('B', '10_t1', 'C'): 78, ('B', '11_t1', 'A'): 23, ('B', '11_t1', 'B'): 72, ('B', '11_t1', 'C'): 17, ('B', '9_t1', 'A'): 89, ('B', '9_t1', 'B'): 18, ('B', '9_t1', 'C'): 26, ('C', '10_t1', 'A'): 23, ('C', '10_t1', 'B'): 25, ('C', '10_t1', 'C'): 12, ('C', '11_t1', 'A'): 1, ('C', '11_t1', 'B'): 6, ('C', '11_t1', 'C'): 6, ('C', '9_t1', 'A'): 21, ('C', '9_t1', 'B'): 11, ('C', '9_t1', 'C'): 5},\n",
       "       metagraph=[('A', 'A', '10_t1'), ('A', 'A', '11_t1'), ('A', 'A', '9_t1'), ('A', 'B', '10_t1'), ('A', 'B', '11_t1'), ('A', 'B', '9_t1'), ('A', 'C', '10_t1'), ('A', 'C', '11_t1'), ('A', 'C', '9_t1'), ('B', 'A', '10_t1'), ('B', 'A', '11_t1'), ('B', 'A', '9_t1'), ('B', 'B', '10_t1'), ('B', 'B', '11_t1'), ('B', 'B', '9_t1'), ('B', 'C', '10_t1'), ('B', 'C', '11_t1'), ('B', 'C', '9_t1'), ('C', 'A', '10_t1'), ('C', 'A', '11_t1'), ('C', 'A', '9_t1'), ('C', 'B', '10_t1'), ('C', 'B', '11_t1'), ('C', 'B', '9_t1'), ('C', 'C', '10_t1'), ('C', 'C', '11_t1'), ('C', 'C', '9_t1')]),\n",
       " Graph(num_nodes={'A': 126, 'B': 178, 'C': 78},\n",
       "       num_edges={('A', '10_t1', 'A'): 10, ('A', '10_t1', 'B'): 7, ('A', '10_t1', 'C'): 5, ('A', '11_t1', 'B'): 4, ('A', '11_t1', 'C'): 2, ('A', '9_t1', 'A'): 5, ('A', '9_t1', 'B'): 9, ('A', '9_t1', 'C'): 3, ('B', '10_t1', 'A'): 18, ('B', '10_t1', 'B'): 20, ('B', '10_t1', 'C'): 21, ('B', '11_t1', 'A'): 4, ('B', '11_t1', 'B'): 14, ('B', '11_t1', 'C'): 3, ('B', '9_t1', 'A'): 29, ('B', '9_t1', 'B'): 1, ('B', '9_t1', 'C'): 3, ('C', '10_t1', 'A'): 8, ('C', '10_t1', 'B'): 7, ('C', '10_t1', 'C'): 7, ('C', '11_t1', 'A'): 1, ('C', '11_t1', 'B'): 1, ('C', '9_t1', 'A'): 6, ('C', '9_t1', 'B'): 2, ('C', '9_t1', 'C'): 1},\n",
       "       metagraph=[('A', 'A', '10_t1'), ('A', 'A', '9_t1'), ('A', 'B', '10_t1'), ('A', 'B', '11_t1'), ('A', 'B', '9_t1'), ('A', 'C', '10_t1'), ('A', 'C', '11_t1'), ('A', 'C', '9_t1'), ('B', 'A', '10_t1'), ('B', 'A', '11_t1'), ('B', 'A', '9_t1'), ('B', 'B', '10_t1'), ('B', 'B', '11_t1'), ('B', 'B', '9_t1'), ('B', 'C', '10_t1'), ('B', 'C', '11_t1'), ('B', 'C', '9_t1'), ('C', 'A', '10_t1'), ('C', 'A', '11_t1'), ('C', 'A', '9_t1'), ('C', 'B', '10_t1'), ('C', 'B', '11_t1'), ('C', 'B', '9_t1'), ('C', 'C', '10_t1'), ('C', 'C', '9_t1')]))"
      ]
     },
     "execution_count": 4,
     "metadata": {},
     "output_type": "execute_result"
    }
   ],
   "source": [
    "train_feats[0], valid_feats[0]"
   ]
  },
  {
   "cell_type": "code",
   "execution_count": 37,
   "metadata": {},
   "outputs": [
    {
     "data": {
      "text/plain": [
       "(tensor([ 714,  617,  820, 1031,  711,  725,  369,  320,  597,  964,  381,  441,\n",
       "          688,  636,  135,  190,  687,  468,  982, 1045,  612,  635,  558,  231,\n",
       "          582,  279, 1021,  223,  581,  317,  563, 1025,  622,  580,  360,  158,\n",
       "          915,  167,  777, 1040,  666,   91,  795,  835,  629,  912]),\n",
       " tensor([2035, 1423, 2451, 1839, 1161, 1667, 1601, 1883, 2281, 1639, 1582, 1140,\n",
       "         1308, 1913, 2738, 2043, 1408, 2450, 1253, 1111, 1206, 1693, 2180, 2638,\n",
       "         2712, 1386, 1330, 1283, 2453, 1842, 1631, 2014, 1244, 1766, 1375, 1338,\n",
       "         2839, 1985, 2452, 1282, 1927, 1758, 2301, 2742, 1755, 2314]))"
      ]
     },
     "execution_count": 37,
     "metadata": {},
     "output_type": "execute_result"
    }
   ],
   "source": [
    "src_node, dst_node = train_feats[1][('A', '10_t1', 'B')].edges('uv')\n",
    "\n",
    "src_node, dst_node + train_feats[1].nodes('A').shape[0]"
   ]
  },
  {
   "cell_type": "code",
   "execution_count": 38,
   "metadata": {},
   "outputs": [
    {
     "data": {
      "text/plain": [
       "[('A', '10_t1', 'A'),\n",
       " ('A', '10_t1', 'B'),\n",
       " ('A', '10_t1', 'C'),\n",
       " ('A', '10_t2', 'A'),\n",
       " ('A', '10_t2', 'B'),\n",
       " ('A', '10_t2', 'C'),\n",
       " ('A', '11_t1', 'A'),\n",
       " ('A', '11_t1', 'B'),\n",
       " ('A', '11_t1', 'C'),\n",
       " ('A', '11_t2', 'A'),\n",
       " ('A', '11_t2', 'B'),\n",
       " ('A', '11_t2', 'C'),\n",
       " ('A', '9_t1', 'A'),\n",
       " ('A', '9_t1', 'B'),\n",
       " ('A', '9_t1', 'C'),\n",
       " ('A', '9_t2', 'A'),\n",
       " ('A', '9_t2', 'B'),\n",
       " ('A', '9_t2', 'C'),\n",
       " ('B', '10_t1', 'A'),\n",
       " ('B', '10_t1', 'B'),\n",
       " ('B', '10_t1', 'C'),\n",
       " ('B', '10_t2', 'A'),\n",
       " ('B', '10_t2', 'B'),\n",
       " ('B', '10_t2', 'C'),\n",
       " ('B', '11_t1', 'A'),\n",
       " ('B', '11_t1', 'B'),\n",
       " ('B', '11_t1', 'C'),\n",
       " ('B', '11_t2', 'A'),\n",
       " ('B', '11_t2', 'B'),\n",
       " ('B', '11_t2', 'C'),\n",
       " ('B', '9_t1', 'A'),\n",
       " ('B', '9_t1', 'B'),\n",
       " ('B', '9_t1', 'C'),\n",
       " ('B', '9_t2', 'A'),\n",
       " ('B', '9_t2', 'B'),\n",
       " ('B', '9_t2', 'C'),\n",
       " ('C', '10_t1', 'A'),\n",
       " ('C', '10_t1', 'B'),\n",
       " ('C', '10_t1', 'C'),\n",
       " ('C', '10_t2', 'A'),\n",
       " ('C', '10_t2', 'B'),\n",
       " ('C', '10_t2', 'C'),\n",
       " ('C', '11_t1', 'A'),\n",
       " ('C', '11_t1', 'B'),\n",
       " ('C', '11_t1', 'C'),\n",
       " ('C', '11_t2', 'A'),\n",
       " ('C', '11_t2', 'B'),\n",
       " ('C', '11_t2', 'C'),\n",
       " ('C', '9_t1', 'A'),\n",
       " ('C', '9_t1', 'B'),\n",
       " ('C', '9_t1', 'C'),\n",
       " ('C', '9_t2', 'A'),\n",
       " ('C', '9_t2', 'B'),\n",
       " ('C', '9_t2', 'C')]"
      ]
     },
     "execution_count": 38,
     "metadata": {},
     "output_type": "execute_result"
    }
   ],
   "source": [
    "train_feats[1].canonical_etypes"
   ]
  },
  {
   "cell_type": "code",
   "execution_count": 18,
   "metadata": {},
   "outputs": [
    {
     "data": {
      "text/plain": [
       "Graph(num_nodes={'A': 1074, 'B': 1824},\n",
       "      num_edges={('A', '10_t1', 'B'): 46},\n",
       "      metagraph=[('A', 'B', '10_t1')])"
      ]
     },
     "execution_count": 18,
     "metadata": {},
     "output_type": "execute_result"
    }
   ],
   "source": [
    "train_feats[1][('A', '10_t1', 'B')]"
   ]
  },
  {
   "cell_type": "code",
   "execution_count": 45,
   "metadata": {},
   "outputs": [
    {
     "data": {
      "text/plain": [
       "torch.Size([1824, 16])"
      ]
     },
     "execution_count": 45,
     "metadata": {},
     "output_type": "execute_result"
    }
   ],
   "source": [
    "torch.cat(\n",
    "    [\n",
    "        train_feats[1].nodes['A'].data['feat'],\n",
    "        train_feats[1].nodes['B'].data['feat']\n",
    "    ],\n",
    "    dim=0\n",
    ")[train_feats[1].nodes('A').shape[0]:].shape"
   ]
  },
  {
   "cell_type": "code",
   "execution_count": 67,
   "metadata": {},
   "outputs": [
    {
     "data": {
      "text/plain": [
       "torch.Size([1824, 16])"
      ]
     },
     "execution_count": 67,
     "metadata": {},
     "output_type": "execute_result"
    }
   ],
   "source": [
    "_tmp, _ = torch.max(torch.stack([\n",
    "    train_feats[1].nodes[\"B\"].data[\"feat\"].squeeze(),\n",
    "    (train_feats[1].nodes[\"B\"].data[\"feat\"]*2).squeeze(),\n",
    "], dim=1), dim=1)\n",
    "\n",
    "_tmp.shape"
   ]
  },
  {
   "cell_type": "code",
   "execution_count": 69,
   "metadata": {},
   "outputs": [
    {
     "data": {
      "text/plain": [
       "tensor([[ 8.0000e+00, -1.0000e+00, -1.0000e+00,  ..., -1.0000e+00,\n",
       "         -1.0000e+00, -1.0000e+00],\n",
       "        [ 5.0000e+00,  7.3000e-01,  4.3500e-01,  ...,  4.0000e-01,\n",
       "          6.8493e-03,  2.0000e-01],\n",
       "        [ 5.0000e+00, -1.0000e+00, -1.0000e+00,  ..., -1.0000e+00,\n",
       "         -1.0000e+00, -1.0000e+00],\n",
       "        ...,\n",
       "        [ 8.0000e+00, -1.0000e+00, -1.0000e+00,  ..., -1.0000e+00,\n",
       "         -1.0000e+00, -1.0000e+00],\n",
       "        [ 4.0000e+00, -1.0000e+00, -1.0000e+00,  ..., -1.0000e+00,\n",
       "         -1.0000e+00, -1.0000e+00],\n",
       "        [ 2.0000e+00, -1.0000e+00, -1.0000e+00,  ..., -1.0000e+00,\n",
       "         -1.0000e+00, -1.0000e+00]])"
      ]
     },
     "execution_count": 69,
     "metadata": {},
     "output_type": "execute_result"
    }
   ],
   "source": [
    "train_feats[1].nodes[\"B\"].data[\"feat\"]"
   ]
  },
  {
   "cell_type": "code",
   "execution_count": 68,
   "metadata": {},
   "outputs": [
    {
     "data": {
      "text/plain": [
       "tensor([[ 1.6000e+01, -1.0000e+00, -1.0000e+00,  ..., -1.0000e+00,\n",
       "         -1.0000e+00, -1.0000e+00],\n",
       "        [ 1.0000e+01,  1.4600e+00,  8.7000e-01,  ...,  8.0000e-01,\n",
       "          1.3699e-02,  4.0000e-01],\n",
       "        [ 1.0000e+01, -1.0000e+00, -1.0000e+00,  ..., -1.0000e+00,\n",
       "         -1.0000e+00, -1.0000e+00],\n",
       "        ...,\n",
       "        [ 1.6000e+01, -1.0000e+00, -1.0000e+00,  ..., -1.0000e+00,\n",
       "         -1.0000e+00, -1.0000e+00],\n",
       "        [ 8.0000e+00, -1.0000e+00, -1.0000e+00,  ..., -1.0000e+00,\n",
       "         -1.0000e+00, -1.0000e+00],\n",
       "        [ 4.0000e+00, -1.0000e+00, -1.0000e+00,  ..., -1.0000e+00,\n",
       "         -1.0000e+00, -1.0000e+00]])"
      ]
     },
     "execution_count": 68,
     "metadata": {},
     "output_type": "execute_result"
    }
   ],
   "source": [
    "_tmp"
   ]
  },
  {
   "cell_type": "code",
   "execution_count": 49,
   "metadata": {},
   "outputs": [
    {
     "data": {
      "text/plain": [
       "torch.Size([2898, 16])"
      ]
     },
     "execution_count": 49,
     "metadata": {},
     "output_type": "execute_result"
    }
   ],
   "source": [
    "torch.cat(\n",
    "    [\n",
    "        train_feats[1].nodes['A'].data['feat'],\n",
    "        train_feats[1].nodes['B'].data['feat']\n",
    "    ],\n",
    "    dim=0\n",
    ").shape"
   ]
  },
  {
   "cell_type": "code",
   "execution_count": 46,
   "metadata": {},
   "outputs": [
    {
     "data": {
      "text/plain": [
       "torch.Size([1824, 16])"
      ]
     },
     "execution_count": 46,
     "metadata": {},
     "output_type": "execute_result"
    }
   ],
   "source": [
    "train_feats[1].nodes['B'].data['feat'].shape"
   ]
  },
  {
   "cell_type": "code",
   "execution_count": null,
   "metadata": {},
   "outputs": [],
   "source": []
  }
 ],
 "metadata": {
  "kernelspec": {
   "display_name": "pytorch",
   "language": "python",
   "name": "python3"
  },
  "language_info": {
   "codemirror_mode": {
    "name": "ipython",
    "version": 3
   },
   "file_extension": ".py",
   "mimetype": "text/x-python",
   "name": "python",
   "nbconvert_exporter": "python",
   "pygments_lexer": "ipython3",
   "version": "3.7.10"
  },
  "orig_nbformat": 4
 },
 "nbformat": 4,
 "nbformat_minor": 2
}
